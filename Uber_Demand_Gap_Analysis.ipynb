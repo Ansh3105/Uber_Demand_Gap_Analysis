{
  "nbformat": 4,
  "nbformat_minor": 0,
  "metadata": {
    "colab": {
      "private_outputs": true,
      "provenance": [],
      "collapsed_sections": [
        "vncDsAP0Gaoa",
        "FJNUwmbgGyua",
        "w6K7xa23Elo4",
        "yQaldy8SH6Dl",
        "PH-0ReGfmX4f",
        "mDgbUHAGgjLW",
        "O_i_v8NEhb9l",
        "HhfV-JJviCcP",
        "Y3lxredqlCYt",
        "3RnN4peoiCZX",
        "x71ZqKXriCWQ",
        "7hBIi_osiCS2",
        "JlHwYmJAmNHm",
        "35m5QtbWiB9F",
        "PoPl-ycgm1ru",
        "H0kj-8xxnORC",
        "nA9Y7ga8ng1Z",
        "PBTbrJXOngz2",
        "u3PMJOP6ngxN",
        "dauF4eBmngu3",
        "bKJF3rekwFvQ",
        "MSa1f5Uengrz",
        "GF8Ens_Soomf",
        "0wOQAZs5pc--",
        "K5QZ13OEpz2H",
        "lQ7QKXXCp7Bj",
        "448CDAPjqfQr",
        "KSlN3yHqYklG",
        "t6dVpIINYklI",
        "ijmpgYnKYklI",
        "-JiQyfWJYklI",
        "EM7whBJCYoAo",
        "fge-S5ZAYoAp",
        "85gYPyotYoAp",
        "RoGjAbkUYoAp",
        "4Of9eVA-YrdM",
        "iky9q4vBYrdO",
        "F6T5p64dYrdO",
        "y-Ehk30pYrdP",
        "bamQiAODYuh1",
        "QHF8YVU7Yuh3",
        "GwzvFGzlYuh3",
        "qYpmQ266Yuh3",
        "OH-pJp9IphqM",
        "bbFf2-_FphqN",
        "_ouA3fa0phqN",
        "Seke61FWphqN",
        "PIIx-8_IphqN",
        "t27r6nlMphqO",
        "r2jJGEOYphqO",
        "b0JNsNcRphqO",
        "BZR9WyysphqO",
        "jj7wYXLtphqO",
        "eZrbJ2SmphqO",
        "rFu4xreNphqO",
        "YJ55k-q6phqO",
        "gCFgpxoyphqP",
        "OVtJsKN_phqQ",
        "lssrdh5qphqQ",
        "U2RJ9gkRphqQ",
        "1M8mcRywphqQ",
        "tgIPom80phqQ",
        "JMzcOPDDphqR",
        "x-EpHcCOp1ci",
        "X_VqEhTip1ck",
        "8zGJKyg5p1ck",
        "PVzmfK_Ep1ck",
        "n3dbpmDWp1ck",
        "ylSl6qgtp1ck",
        "ZWILFDl5p1ck",
        "M7G43BXep1ck",
        "Ag9LCva-p1cl",
        "E6MkPsBcp1cl",
        "2cELzS2fp1cl",
        "3MPXvC8up1cl",
        "NC_X3p0fY2L0",
        "UV0SzAkaZNRQ",
        "YPEH6qLeZNRQ",
        "q29F0dvdveiT",
        "EXh0U9oCveiU",
        "22aHeOlLveiV",
        "JcMwzZxoAimU",
        "8G2x9gOozGDZ",
        "gCX9965dhzqZ",
        "gIfDvo9L0UH2"
      ]
    },
    "kernelspec": {
      "name": "python3",
      "display_name": "Python 3"
    },
    "language_info": {
      "name": "python"
    }
  },
  "cells": [
    {
      "cell_type": "markdown",
      "source": [
        "# **Project Name**    -\n",
        "\n"
      ],
      "metadata": {
        "id": "vncDsAP0Gaoa"
      }
    },
    {
      "cell_type": "markdown",
      "source": [
        "\n",
        "\n",
        "##### **Project Name**    - UBER SUPPLY DEMAND GAP\n",
        "##### **Contribution**    - Individual\n",
        "##### **Member Name**     - ANSH SINGH"
      ],
      "metadata": {
        "id": "beRrZCGUAJYm"
      }
    },
    {
      "cell_type": "markdown",
      "source": [
        "# **Project Summary -**"
      ],
      "metadata": {
        "id": "FJNUwmbgGyua"
      }
    },
    {
      "cell_type": "markdown",
      "source": [
        "The Uber Request Data Analysis project was undertaken with the objective of examining ride request patterns in order to identify and understand supply-demand discrepancies within Uber’s service operations. By analyzing real-world data comprising detailed information about individual ride requests, this study aims to uncover the factors contributing to frequent ride cancellations and unfulfilled ride requests, especially during high-demand periods.\n",
        "\n",
        "---\n",
        "The dataset utilized for this project includes essential variables such as Request ID, Pickup Point, Request Timestamp, Drop Timestamp, and Status. Each row in the dataset represents a unique ride request, capturing the location from which the ride was requested (City or Airport), the date and time of the request, the ride status (Trip Completed, Cancelled, or No Cars Available), and the completion time where applicable. These features provide a rich foundation for analyzing patterns related to rider demand, service fulfillment, and operational bottlenecks.\n",
        "\n",
        "---\n",
        "\n",
        "The project began with a structured data cleaning and preprocessing phase. All timestamp fields were converted into a standardized datetime format. Missing values were primarily found in the Drop Timestamp column, which is expected as only completed rides have a drop time. Duplicate entries were checked and eliminated to ensure the integrity of the analysis. Additional derived features were created for more granular analysis, including Hour (extracted from the request timestamp) and a categorized Time Slot variable that groups requests into logical intervals such as Late Night, Early Morning, Morning, Afternoon, and Evening.\n",
        "\n",
        "To simplify and standardize the analysis of ride outcomes, a new categorical variable titled Ride Success was introduced. This variable classifies ride outcomes into three distinct categories: Fulfilled (Trip Completed), Cancelled (Cancelled by driver or rider), and Unfulfilled (No Cars Available). This feature enabled a clearer comparison of service performance across different times and pickup points.\n",
        "\n",
        "---\n",
        "In conclusion, this project demonstrates the effectiveness of data analytics in diagnosing and addressing real-world logistical inefficiencies. By leveraging structured data, statistical reasoning, and visualization, the Uber Request Data Analysis project provides a foundation for data-driven decision-making in urban mobility services.\n",
        "\n"
      ],
      "metadata": {
        "id": "F6v_1wHtG2nS"
      }
    },
    {
      "cell_type": "markdown",
      "source": [
        "# **GitHub Link -**"
      ],
      "metadata": {
        "id": "w6K7xa23Elo4"
      }
    },
    {
      "cell_type": "markdown",
      "source": [
        "https://github.com/Ansh3105/Uber_Demand_Gap_Analysis"
      ],
      "metadata": {
        "id": "h1o69JH3Eqqn"
      }
    },
    {
      "cell_type": "markdown",
      "source": [
        "# **Problem Statement**\n"
      ],
      "metadata": {
        "id": "yQaldy8SH6Dl"
      }
    },
    {
      "cell_type": "markdown",
      "source": [
        "This project aims to conduct a demand gap analysis for Uber by examining ride request data to identify when and where the platform struggles to meet customer demand. Frequent issues such as ride cancellations and “No Cabs Available” messages — particularly during late-night and early-morning hours at high-traffic locations like airports — highlight a mismatch between supply and demand. By analyzing these patterns, the project seeks to uncover the root causes of the demand-supply gap and recommend strategies to improve cab availability and service efficiency.\n",
        "\n",
        "\n",
        "\n",
        "\n",
        "\n",
        "\n"
      ],
      "metadata": {
        "id": "DpeJGUA3kjGy"
      }
    },
    {
      "cell_type": "markdown",
      "source": [
        "#### **Define Your Business Objective?**"
      ],
      "metadata": {
        "id": "PH-0ReGfmX4f"
      }
    },
    {
      "cell_type": "markdown",
      "source": [
        "The business objective of this project is to enhance Uber’s operational efficiency and customer satisfaction by identifying and addressing demand-supply gaps in its ride service. By analyzing historical ride request data, the project aims to pinpoint the specific time slots and locations—such as airports during late-night and early-morning hours—where Uber consistently fails to meet rider demand. The insights generated will help the company make data-driven decisions to optimize driver allocation, reduce ride cancellations, and improve service availability. Ultimately, the goal is to strengthen Uber’s market position by ensuring a more reliable and responsive ride experience for customers.\n",
        "\n",
        "\n",
        "\n",
        "\n",
        "\n",
        "\n",
        "\n",
        "\n",
        "\n"
      ],
      "metadata": {
        "id": "PhDvGCAqmjP1"
      }
    },
    {
      "cell_type": "markdown",
      "source": [
        "# ***Let's Begin !***"
      ],
      "metadata": {
        "id": "O_i_v8NEhb9l"
      }
    },
    {
      "cell_type": "markdown",
      "source": [
        "## ***1. Know Your Data***"
      ],
      "metadata": {
        "id": "HhfV-JJviCcP"
      }
    },
    {
      "cell_type": "markdown",
      "source": [
        "### Import Libraries"
      ],
      "metadata": {
        "id": "Y3lxredqlCYt"
      }
    },
    {
      "cell_type": "code",
      "source": [
        "# Import Libraries\n",
        "\n",
        "# Data handling\n",
        "import pandas as pd\n",
        "import numpy as np\n",
        "\n",
        "# Visualization\n",
        "import matplotlib.pyplot as plt\n",
        "import seaborn as sns"
      ],
      "metadata": {
        "id": "M8Vqi-pPk-HR"
      },
      "execution_count": null,
      "outputs": []
    },
    {
      "cell_type": "markdown",
      "source": [
        "### Dataset Loading"
      ],
      "metadata": {
        "id": "3RnN4peoiCZX"
      }
    },
    {
      "cell_type": "code",
      "source": [
        "# Load Dataset\n",
        "\n",
        "df = pd.read_csv('Uber Request Data.csv')"
      ],
      "metadata": {
        "id": "4CkvbW_SlZ_R"
      },
      "execution_count": null,
      "outputs": []
    },
    {
      "cell_type": "markdown",
      "source": [
        "### Dataset First View"
      ],
      "metadata": {
        "id": "x71ZqKXriCWQ"
      }
    },
    {
      "cell_type": "code",
      "source": [
        "# Dataset First Look\n",
        "df.head(10)"
      ],
      "metadata": {
        "id": "LWNFOSvLl09H"
      },
      "execution_count": null,
      "outputs": []
    },
    {
      "cell_type": "markdown",
      "source": [
        "### Dataset Rows & Columns count"
      ],
      "metadata": {
        "id": "7hBIi_osiCS2"
      }
    },
    {
      "cell_type": "code",
      "source": [
        "# Dataset Rows & Columns count\n",
        "df.shape"
      ],
      "metadata": {
        "id": "Kllu7SJgmLij"
      },
      "execution_count": null,
      "outputs": []
    },
    {
      "cell_type": "markdown",
      "source": [
        "### Dataset Information"
      ],
      "metadata": {
        "id": "JlHwYmJAmNHm"
      }
    },
    {
      "cell_type": "code",
      "source": [
        "# Dataset Info\n",
        "df.info()"
      ],
      "metadata": {
        "id": "e9hRXRi6meOf"
      },
      "execution_count": null,
      "outputs": []
    },
    {
      "cell_type": "markdown",
      "source": [
        "#### Duplicate Values"
      ],
      "metadata": {
        "id": "35m5QtbWiB9F"
      }
    },
    {
      "cell_type": "code",
      "source": [
        "# Dataset Duplicate Value Count\n",
        "duplicates = df.duplicated().sum()\n",
        "print(f\"Number of duplicates are {duplicates}\")"
      ],
      "metadata": {
        "id": "1sLdpKYkmox0"
      },
      "execution_count": null,
      "outputs": []
    },
    {
      "cell_type": "markdown",
      "source": [
        "#### Missing Values/Null Values"
      ],
      "metadata": {
        "id": "PoPl-ycgm1ru"
      }
    },
    {
      "cell_type": "code",
      "source": [
        "# Missing Values/Null Values Count\n",
        "df.isnull().sum()"
      ],
      "metadata": {
        "id": "GgHWkxvamxVg"
      },
      "execution_count": null,
      "outputs": []
    },
    {
      "cell_type": "code",
      "source": [
        "# Visualizing the missing values\n",
        "\n",
        "missing_values = df.isnull().sum()\n",
        "\n",
        "# Plot\n",
        "missing_values.plot(kind='bar', color='skyblue')\n",
        "plt.title(\"Missing Values per Column\")\n",
        "plt.xlabel(\"Columns\")\n",
        "plt.ylabel(\"Number of Missing Values\")\n",
        "plt.show()\n"
      ],
      "metadata": {
        "id": "3q5wnI3om9sJ"
      },
      "execution_count": null,
      "outputs": []
    },
    {
      "cell_type": "markdown",
      "source": [
        "### What did you know about your dataset?"
      ],
      "metadata": {
        "id": "H0kj-8xxnORC"
      }
    },
    {
      "cell_type": "markdown",
      "source": [
        "It contains 6745 number of  rows and 12 columns.\n",
        "\n",
        "---\n",
        "\n",
        "It includes the following key columns:\n",
        "\n",
        "Request id  :   Unique ID for each ride request.\n",
        "\n",
        "Pickup point : Location of pickup – either City or Airport.\n",
        "\n",
        "Status : Final ride status – Trip Completed, Cancelled, or No Cars Available.\n",
        "\n",
        "Pickup Date : Date  When the ride was requested.\n",
        "\n",
        "Pickup Time : Date  When the ride was requested.\n",
        "\n",
        "Drop Date : Date  When the ride was completed.\n",
        "\n",
        "Drop Time : time  When the ride was completed.\n",
        "\n",
        "Day of week : Day on which ride was done\n",
        "\n",
        "\n",
        "Hour_of_pickup : Hour of day when ride was requested(0 as 12:00 am , 23 as 11:00 pm)\n",
        "\n",
        "Time_Slots : categorized hours of day such as ( 0-3:Late night , etc)\n",
        "\n",
        "Ride Success : ride was fullfilled , not avaialible or cancelled\n",
        "\n",
        "Car Avaibility : Shows Car Avaialible or not\n",
        "\n",
        "\n",
        "---\n",
        "\n",
        "Drop timestamp has many missing values, which is expected:\n",
        "\n",
        "Rides that were cancelled or unfulfilled (no cars) don't have a drop time.\n",
        "\n",
        "---\n",
        "\n",
        "No significant duplicate Request id values (checked using .duplicated().sum())."
      ],
      "metadata": {
        "id": "gfoNAAC-nUe_"
      }
    },
    {
      "cell_type": "markdown",
      "source": [
        "## ***2. Understanding Your Variables***"
      ],
      "metadata": {
        "id": "nA9Y7ga8ng1Z"
      }
    },
    {
      "cell_type": "code",
      "source": [
        "# Dataset Columns\n",
        "df.columns"
      ],
      "metadata": {
        "id": "j7xfkqrt5Ag5"
      },
      "execution_count": null,
      "outputs": []
    },
    {
      "cell_type": "code",
      "source": [
        "# Dataset Describe\n",
        "df.describe()"
      ],
      "metadata": {
        "id": "DnOaZdaE5Q5t"
      },
      "execution_count": null,
      "outputs": []
    },
    {
      "cell_type": "markdown",
      "source": [
        "### Variables Description"
      ],
      "metadata": {
        "id": "PBTbrJXOngz2"
      }
    },
    {
      "cell_type": "markdown",
      "source": [
        "It includes the following key variables:\n",
        "\n",
        "Request id  :   Unique ID for each ride request.\n",
        "\n",
        "Pickup point : Location of pickup – either City or Airport.\n",
        "\n",
        "Status : Final ride status – Trip Completed, Cancelled, or No Cars Available.\n",
        "\n",
        "Pickup Date : Date  When the ride was requested.\n",
        "\n",
        "Pickup Time : Date  When the ride was requested.\n",
        "\n",
        "Drop Date : Date  When the ride was completed.\n",
        "\n",
        "Drop Time : time  When the ride was completed.\n",
        "\n",
        "Day of week : Day on which ride was done\n",
        "\n",
        "\n",
        "Hour_of_pickup : Hour of day when ride was requested(0 as 12:00 am , 23 as 11:00 pm)\n",
        "\n",
        "Time_Slots : categorized hours of day such as ( 0-3:Late night , etc)\n",
        "\n",
        "Ride Success : ride was fullfilled , not avaialible or cancelled\n",
        "\n",
        "Car Avaibility : Shows Car Avaialible or not"
      ],
      "metadata": {
        "id": "aJV4KIxSnxay"
      }
    },
    {
      "cell_type": "markdown",
      "source": [
        "### Check Unique Values for each variable."
      ],
      "metadata": {
        "id": "u3PMJOP6ngxN"
      }
    },
    {
      "cell_type": "code",
      "source": [
        "# Check Unique Values for each variable.\n",
        "df.nunique()"
      ],
      "metadata": {
        "id": "zms12Yq5n-jE"
      },
      "execution_count": null,
      "outputs": []
    },
    {
      "cell_type": "markdown",
      "source": [
        "## 3. ***Data Wrangling***"
      ],
      "metadata": {
        "id": "dauF4eBmngu3"
      }
    },
    {
      "cell_type": "markdown",
      "source": [
        "### Data Wrangling Code"
      ],
      "metadata": {
        "id": "bKJF3rekwFvQ"
      }
    },
    {
      "cell_type": "code",
      "source": [
        "# WE ALREADY DID THE DATA CLEANING , FORMATING , WRANGLING IN EXCEL FILE AND UPLOADED THAT EXCEL FILE WITH THE NAME (Uber Request Data.csv).\n",
        "# HENCE NO NEED FOR DATA WRANGLING WITH THE HELP OF PYTHON"
      ],
      "metadata": {
        "id": "wk-9a2fpoLcV"
      },
      "execution_count": null,
      "outputs": []
    },
    {
      "cell_type": "markdown",
      "source": [
        "### What all manipulations have you done and insights you found?"
      ],
      "metadata": {
        "id": "MSa1f5Uengrz"
      }
    },
    {
      "cell_type": "markdown",
      "source": [
        "Loaded the dataset using pandas from a .csv file.\n",
        "\n",
        "---\n",
        "Checked the dataset structure using:\n",
        "\n",
        "df.shape to get the number of rows and columns.\n",
        "\n",
        "df.info() to view data types and missing values.\n",
        "\n",
        "df.head() to preview the data.\n",
        "\n",
        "---\n",
        "\n",
        "Handled missing values:\n",
        "\n",
        "Found missing values in the Drop timestamp column.\n",
        "\n",
        "These were not removed because they represent valid cases of cancellations or unfulfilled requests (expected in this context).\n",
        "\n",
        "---\n",
        "\n",
        "\n",
        "Checked for duplicates:\n",
        "\n",
        "\n",
        "Used df.duplicated().sum() to check for duplicate rows.\n",
        "\n",
        "No duplicates found\n",
        "\n",
        "---\n",
        "\n",
        "Standardized time format:\n",
        "\n",
        "Extracted only the time part from Request timestamp for easier time-based grouping.\n",
        "\n",
        "And seprated the date part for better understanding of data\n",
        "\n",
        "---\n",
        "\n",
        "Created derived columns for analysis:\n",
        "\n",
        "While not part of cleaning, some new columns (like Hour, Time_Slots,Day Of Week,ride_success, car avaibility ) were added after cleaning to support later steps.\n"
      ],
      "metadata": {
        "id": "LbyXE7I1olp8"
      }
    },
    {
      "cell_type": "markdown",
      "source": [
        "## ***4. Data Vizualization, Storytelling & Experimenting with charts : Understand the relationships between variables***"
      ],
      "metadata": {
        "id": "GF8Ens_Soomf"
      }
    },
    {
      "cell_type": "markdown",
      "source": [
        "#### Chart - 1"
      ],
      "metadata": {
        "id": "0wOQAZs5pc--"
      }
    },
    {
      "cell_type": "code",
      "source": [
        "# Chart - 1\n",
        "\n",
        "hourly_requests = df.groupby('Hour_of_Pickup')['Request id'].count().sort_index()\n",
        "\n",
        "# Plot the bar chart\n",
        "plt.figure(figsize=(8, 5))\n",
        "hourly_requests.plot(kind='bar', color='steelblue', edgecolor='black')\n",
        "plt.title('Number of Ride Requests by Hour of the Day')\n",
        "plt.xlabel('Hour of Day (0–23)')\n",
        "plt.ylabel('Number of Requests')\n",
        "plt.tight_layout()\n",
        "plt.show()"
      ],
      "metadata": {
        "id": "7v_ESjsspbW7"
      },
      "execution_count": null,
      "outputs": []
    },
    {
      "cell_type": "markdown",
      "source": [
        "##### 1. Why did you pick the specific chart?"
      ],
      "metadata": {
        "id": "K5QZ13OEpz2H"
      }
    },
    {
      "cell_type": "markdown",
      "source": [
        "This chart helps visualize when ride demand is highest and lowest throughout the day. By plotting the number of requests (from Request id) against each hour of the day (hour_of_pickup), we can:\n",
        "\n",
        "Identify peak demand periods\n",
        "\n",
        "Detect low-activity hours\n",
        "\n",
        "Analyze time-based behavior of riders\n",
        "\n"
      ],
      "metadata": {
        "id": "XESiWehPqBRc"
      }
    },
    {
      "cell_type": "markdown",
      "source": [
        "##### 2. What is/are the insight(s) found from the chart?"
      ],
      "metadata": {
        "id": "lQ7QKXXCp7Bj"
      }
    },
    {
      "cell_type": "markdown",
      "source": [
        "Peak Hours\n",
        "\n",
        "High request volume between certain hours (e.g., 8 AM–11 AM or 5 PM–9 PM) might indicate rush hours.\n",
        "\n",
        "Low Demand Hours\n",
        "\n",
        "Very few requests at late night (e.g., 2 AM–5 AM), likely due to low activity or lack of available cars.\n",
        "\n"
      ],
      "metadata": {
        "id": "C_j1G7yiqdRP"
      }
    },
    {
      "cell_type": "markdown",
      "source": [
        "##### 3. Will the gained insights help creating a positive business impact?\n",
        "Are there any insights that lead to negative growth? Justify with specific reason."
      ],
      "metadata": {
        "id": "448CDAPjqfQr"
      }
    },
    {
      "cell_type": "markdown",
      "source": [
        "Positive effects:\n",
        "\n",
        "Helps optimize driver availability during peak hours.\n",
        "\n",
        "Supports better operational planning and scheduling.\n",
        "\n",
        "Useful for marketing strategies to target low-demand hours.\n",
        "\n",
        "Quick visual representation of overall ride demand throughout the day.\n",
        "\n",
        "\n"
      ],
      "metadata": {
        "id": "3cspy4FjqxJW"
      }
    },
    {
      "cell_type": "markdown",
      "source": [
        "#### Chart - 2"
      ],
      "metadata": {
        "id": "KSlN3yHqYklG"
      }
    },
    {
      "cell_type": "code",
      "source": [
        "# Chart - 2\n",
        "pickup_counts = df['Pickup point'].value_counts()\n",
        "\n",
        "# Plot the bar chart\n",
        "plt.figure(figsize=(8, 6))\n",
        "pickup_counts.plot(kind='bar', color=['red', 'skyblue'], edgecolor='black')\n",
        "plt.title('Number of Ride Requests by Pickup Point')\n",
        "plt.xlabel('Pickup Point')\n",
        "plt.ylabel('Number of Requests')\n",
        "plt.grid(axis='y', linestyle='--', alpha=0.6)\n",
        "plt.show()"
      ],
      "metadata": {
        "id": "R4YgtaqtYklH"
      },
      "execution_count": null,
      "outputs": []
    },
    {
      "cell_type": "markdown",
      "source": [
        "##### 1. Why did you pick the specific chart?"
      ],
      "metadata": {
        "id": "t6dVpIINYklI"
      }
    },
    {
      "cell_type": "markdown",
      "source": [
        "This chart shows the total number of ride requests made from different pickup points — mainly City and Airport. It helps understand where demand is geographically concentrated."
      ],
      "metadata": {
        "id": "5aaW0BYyYklI"
      }
    },
    {
      "cell_type": "markdown",
      "source": [
        "##### 2. What is/are the insight(s) found from the chart?"
      ],
      "metadata": {
        "id": "ijmpgYnKYklI"
      }
    },
    {
      "cell_type": "markdown",
      "source": [
        "Identifies whether most users are requesting rides from the City or the Airport.\n",
        "\n",
        "Highlights imbalance in ride demand between the two locations.\n",
        "\n",
        "Helps determine where driver availability should be prioritized.\n",
        "\n",
        "Can guide location-specific strategies to improve fulfillment rates."
      ],
      "metadata": {
        "id": "PSx9atu2YklI"
      }
    },
    {
      "cell_type": "markdown",
      "source": [
        "##### 3. Will the gained insights help creating a positive business impact?\n",
        "Are there any insights that lead to negative growth? Justify with specific reason."
      ],
      "metadata": {
        "id": "-JiQyfWJYklI"
      }
    },
    {
      "cell_type": "markdown",
      "source": [
        "Positive effects:\n",
        "\n",
        "Supports better driver distribution between the City and Airport.\n",
        "\n",
        "Helps Uber align supply based on geographic demand.\n",
        "\n"
      ],
      "metadata": {
        "id": "BcBbebzrYklV"
      }
    },
    {
      "cell_type": "markdown",
      "source": [
        "#### Chart - 3"
      ],
      "metadata": {
        "id": "EM7whBJCYoAo"
      }
    },
    {
      "cell_type": "code",
      "source": [
        "# Chart - 3\n",
        "\n",
        "# Count of each status\n",
        "status_counts = df['Status'].value_counts()\n",
        "\n",
        "# Plot the bar chart\n",
        "plt.figure(figsize=(10, 6))\n",
        "status_counts.plot(kind='bar', color=['green', 'orange', 'red'], edgecolor='black')\n",
        "plt.title('Ride Request Status Distribution')\n",
        "plt.ylabel('Number of Requests')\n",
        "plt.grid(axis='y', linestyle='--', alpha=0.6)\n",
        "plt.show()"
      ],
      "metadata": {
        "id": "t6GMdE67YoAp"
      },
      "execution_count": null,
      "outputs": []
    },
    {
      "cell_type": "markdown",
      "source": [
        "##### 1. Why did you pick the specific chart?"
      ],
      "metadata": {
        "id": "fge-S5ZAYoAp"
      }
    },
    {
      "cell_type": "markdown",
      "source": [
        "This chart helps visualize the distribution of ride outcomes — how many trips were completed, cancelled, or could not be fulfilled due to unavailability of cars. It highlights performance and service gaps in the Uber system.\n",
        "\n"
      ],
      "metadata": {
        "id": "5dBItgRVYoAp"
      }
    },
    {
      "cell_type": "markdown",
      "source": [
        "##### 2. What is/are the insight(s) found from the chart?"
      ],
      "metadata": {
        "id": "85gYPyotYoAp"
      }
    },
    {
      "cell_type": "markdown",
      "source": [
        "Insights from the chart:\n",
        "Shows the proportion of successful vs unsuccessful ride requests.\n",
        "\n",
        "High number of cancellations or unavailability indicates supply or operational issues.\n",
        "\n",
        "Helps identify the most frequent reasons for failed rides.\n",
        "\n",
        "Indicates user experience and reliability of service.\n",
        "\n"
      ],
      "metadata": {
        "id": "4jstXR6OYoAp"
      }
    },
    {
      "cell_type": "markdown",
      "source": [
        "##### 3. Will the gained insights help creating a positive business impact?\n",
        "Are there any insights that lead to negative growth? Justify with specific reason."
      ],
      "metadata": {
        "id": "RoGjAbkUYoAp"
      }
    },
    {
      "cell_type": "markdown",
      "source": [
        "Positive effects:\n",
        "Gives a clear breakdown of fulfillment efficiency.\n",
        "\n",
        "Helps Uber focus on reducing cancellations and increasing fulfillment rates.\n",
        "\n",
        "Useful for performance monitoring and improvement."
      ],
      "metadata": {
        "id": "zfJ8IqMcYoAp"
      }
    },
    {
      "cell_type": "markdown",
      "source": [
        "#### Chart - 4"
      ],
      "metadata": {
        "id": "4Of9eVA-YrdM"
      }
    },
    {
      "cell_type": "code",
      "source": [
        "# Chart - 4\n",
        "\n",
        "slot_order = ['Late Night', 'Early Morning', 'Morning', 'Afternoon', 'Evening', 'Night']\n",
        "\n",
        "\n",
        "color_palette = {\n",
        "    'Trip Completed': '#4CAF50',     # medium green\n",
        "    'Cancelled': '#FF9800',          # vibrant orange\n",
        "    'No Cars Available': '#F44336'   # standard red\n",
        "}\n",
        "\n",
        "\n",
        "\n",
        "\n",
        "# Plot the count of requests by time slot and status\n",
        "\n",
        "plt.figure(figsize=(10, 6))\n",
        "sns.countplot(data=df, x='Time_slots', hue='Status', order=slot_order,\n",
        "              palette=color_palette)\n",
        "\n",
        "plt.title('Ride Request Status by Time Slot')\n",
        "plt.xlabel('Time Slot')\n",
        "plt.ylabel('Number of Requests')\n",
        "plt.legend(title='Status')\n",
        "plt.grid(axis='y', linestyle='--', alpha=0.5)\n",
        "plt.show()"
      ],
      "metadata": {
        "id": "irlUoxc8YrdO"
      },
      "execution_count": null,
      "outputs": []
    },
    {
      "cell_type": "markdown",
      "source": [
        "##### 1. Why did you pick the specific chart?"
      ],
      "metadata": {
        "id": "iky9q4vBYrdO"
      }
    },
    {
      "cell_type": "markdown",
      "source": [
        "This chart visualizes ride request outcomes (Completed, Cancelled, No Cars Available) across different time slots of the day. It helps identify when and why service failures occur, enabling better supply-demand management.\n",
        "\n"
      ],
      "metadata": {
        "id": "aJRCwT6DYrdO"
      }
    },
    {
      "cell_type": "markdown",
      "source": [
        "##### 2. What is/are the insight(s) found from the chart?"
      ],
      "metadata": {
        "id": "F6T5p64dYrdO"
      }
    },
    {
      "cell_type": "markdown",
      "source": [
        " Insights from the chart:\n",
        "Highlights specific time slots where cancellations or unfulfilled requests spike.\n",
        "\n",
        "Shows if demand during certain hours exceeds supply (e.g., early morning or evening).\n",
        "\n",
        "Helps identify operational bottlenecks or driver shortages.\n",
        "\n",
        "Useful for aligning driver availability with user demand trends."
      ],
      "metadata": {
        "id": "Xx8WAJvtYrdO"
      }
    },
    {
      "cell_type": "markdown",
      "source": [
        "##### 3. Will the gained insights help creating a positive business impact?\n",
        "Are there any insights that lead to negative growth? Justify with specific reason."
      ],
      "metadata": {
        "id": "y-Ehk30pYrdP"
      }
    },
    {
      "cell_type": "markdown",
      "source": [
        " Positive effects:\n",
        "Helps Uber improve supply planning during critical time windows.\n",
        "\n",
        "Identifies exact hours where user satisfaction may be low.\n",
        "\n",
        "---\n",
        "Negative effects :\n",
        "Doesn’t show location of requests — Airport vs City patterns could be different"
      ],
      "metadata": {
        "id": "jLNxxz7MYrdP"
      }
    },
    {
      "cell_type": "markdown",
      "source": [
        "#### Chart - 5"
      ],
      "metadata": {
        "id": "bamQiAODYuh1"
      }
    },
    {
      "cell_type": "code",
      "source": [
        "# Chart - 5 visualization code\n",
        "\n",
        "# Count requests in each time slot\n",
        "slot_counts = df['Time_slots'].value_counts()\n",
        "\n",
        "# Plot the line chart\n",
        "plt.plot(slot_counts.index, slot_counts.values, marker='o')\n",
        "plt.title('Requests per Time Slot')\n",
        "plt.xlabel('Time Slot')\n",
        "plt.ylabel('Number of Requests')\n",
        "plt.show()"
      ],
      "metadata": {
        "id": "TIJwrbroYuh3"
      },
      "execution_count": null,
      "outputs": []
    },
    {
      "cell_type": "markdown",
      "source": [
        "##### 1. Why did you pick the specific chart?"
      ],
      "metadata": {
        "id": "QHF8YVU7Yuh3"
      }
    },
    {
      "cell_type": "markdown",
      "source": [
        "This chart shows how ride demand varies across different time slots in a day. A line plot helps visualize the trend and flow of ride requests, making it easier to spot demand peaks and lows."
      ],
      "metadata": {
        "id": "dcxuIMRPYuh3"
      }
    },
    {
      "cell_type": "markdown",
      "source": [
        "##### 2. What is/are the insight(s) found from the chart?"
      ],
      "metadata": {
        "id": "GwzvFGzlYuh3"
      }
    },
    {
      "cell_type": "markdown",
      "source": [
        " Insights from the chart:\n",
        "\n",
        "Identifies time slots with the highest and lowest ride requests.\n",
        "\n",
        "Shows demand trends like morning or evening rush hours.\n",
        "\n"
      ],
      "metadata": {
        "id": "uyqkiB8YYuh3"
      }
    },
    {
      "cell_type": "markdown",
      "source": [
        "##### 3. Will the gained insights help creating a positive business impact?\n",
        "Are there any insights that lead to negative growth? Justify with specific reason."
      ],
      "metadata": {
        "id": "qYpmQ266Yuh3"
      }
    },
    {
      "cell_type": "markdown",
      "source": [
        "Positive effects:\n",
        "\n",
        "Helps Uber allocate drivers during high-demand time slots.\n",
        "\n",
        "Supports time-based strategy planning (e.g., incentives in low-demand hours).\n",
        "\n",
        "Aids in scheduling marketing campaigns or fare adjustments."
      ],
      "metadata": {
        "id": "_WtzZ_hCYuh4"
      }
    },
    {
      "cell_type": "markdown",
      "source": [
        "#### Chart - 6"
      ],
      "metadata": {
        "id": "OH-pJp9IphqM"
      }
    },
    {
      "cell_type": "code",
      "source": [
        "# Chart - 6 visualization code\n",
        "\n",
        "availability_counts = df['Car_Avaibility'].value_counts()\n",
        "\n",
        "# Plot pie chart\n",
        "plt.figure(figsize=(6, 6))\n",
        "plt.pie(availability_counts, labels=availability_counts.index, autopct='%1.1f%%',\n",
        "        colors=['#A1D99B', '#FCBBA1'], startangle=90, wedgeprops={'edgecolor': 'black'})\n",
        "plt.title('Overall Car Avaibility')\n",
        "plt.show()"
      ],
      "metadata": {
        "id": "kuRf4wtuphqN"
      },
      "execution_count": null,
      "outputs": []
    },
    {
      "cell_type": "markdown",
      "source": [
        "##### 1. Why did you pick the specific chart?\n",
        "\n",
        "1.   List item\n",
        "2.   List item\n",
        "\n"
      ],
      "metadata": {
        "id": "bbFf2-_FphqN"
      }
    },
    {
      "cell_type": "markdown",
      "source": [
        "This chart helps visualize how often cars were available versus not available on the platform. A pie chart is ideal here because it clearly shows the proportion of each category in the total requests."
      ],
      "metadata": {
        "id": "loh7H2nzphqN"
      }
    },
    {
      "cell_type": "markdown",
      "source": [
        "##### 2. What is/are the insight(s) found from the chart?"
      ],
      "metadata": {
        "id": "_ouA3fa0phqN"
      }
    },
    {
      "cell_type": "markdown",
      "source": [
        "Insights from the chart:\n",
        "\n",
        "Highlights the share of ride requests that could not be served due to car unavailability.\n",
        "\n",
        "If the \"Not Available\" section is large, it indicates a major supply-demand gap.\n",
        "\n"
      ],
      "metadata": {
        "id": "VECbqPI7phqN"
      }
    },
    {
      "cell_type": "markdown",
      "source": [
        "##### 3. Will the gained insights help creating a positive business impact?\n",
        "Are there any insights that lead to negative growth? Justify with specific reason."
      ],
      "metadata": {
        "id": "Seke61FWphqN"
      }
    },
    {
      "cell_type": "markdown",
      "source": [
        " Positive effects:\n",
        "\n",
        "Provides a quick snapshot of platform reliability.\n",
        "\n",
        "Useful for management to assess fleet adequacy"
      ],
      "metadata": {
        "id": "DW4_bGpfphqN"
      }
    },
    {
      "cell_type": "markdown",
      "source": [
        "#### Chart - 7"
      ],
      "metadata": {
        "id": "PIIx-8_IphqN"
      }
    },
    {
      "cell_type": "code",
      "source": [
        "# Create a simple category: Fulfilled or Unfulfilled\n",
        "df['Demand_Status'] = df['Status'].apply(lambda x: 'Fulfilled' if x == 'Trip Completed' else 'Unfulfilled')\n",
        "\n",
        "# Count how many were fulfilled vs unfulfilled\n",
        "counts = df['Demand_Status'].value_counts()\n",
        "\n",
        "# Plot the bar chart\n",
        "counts.plot(kind='bar', color=['red', 'green'])\n",
        "plt.title('Demand Gap')\n",
        "plt.xlabel('Request Outcome')\n",
        "plt.ylabel('Number of Requests')\n",
        "plt.show()"
      ],
      "metadata": {
        "id": "lqAIGUfyphqO"
      },
      "execution_count": null,
      "outputs": []
    },
    {
      "cell_type": "markdown",
      "source": [
        "##### 1. Why did you pick the specific chart?\n",
        "\n",
        "\n"
      ],
      "metadata": {
        "id": "fRA-DYc0i75_"
      }
    },
    {
      "cell_type": "markdown",
      "source": [
        "To show how many ride requests were successfully completed vs not completed."
      ],
      "metadata": {
        "id": "iv6ro40sphqO"
      }
    },
    {
      "cell_type": "markdown",
      "source": [
        "##### 2. What is/are the insight(s) found from the chart?"
      ],
      "metadata": {
        "id": "r2jJGEOYphqO"
      }
    },
    {
      "cell_type": "markdown",
      "source": [
        "You can see how big the gap is between demand and supply.\n",
        "\n",
        "If \"Unfulfilled\" is large, it means many users didn’t get a ride."
      ],
      "metadata": {
        "id": "Po6ZPi4hphqO"
      }
    },
    {
      "cell_type": "markdown",
      "source": [
        "##### 3. Will the gained insights help creating a positive business impact?\n",
        "Are there any insights that lead to negative growth? Justify with specific reason."
      ],
      "metadata": {
        "id": "b0JNsNcRphqO"
      }
    },
    {
      "cell_type": "markdown",
      "source": [
        "Positive effects:\n",
        "\n",
        "\n",
        "Helps Uber understand when and where they’re failing to meet demand.\n",
        "\n",
        "Useful for deciding when to add more drivers.\n",
        "\n",
        "Improves planning and user experience.\n",
        "\n"
      ],
      "metadata": {
        "id": "xvSq8iUTphqO"
      }
    },
    {
      "cell_type": "markdown",
      "source": [
        "#### Chart - 8\n"
      ],
      "metadata": {
        "id": "S-ccEPsEaaLL"
      }
    },
    {
      "cell_type": "code",
      "source": [
        "# Filter for cancelled rides (either 'Cancelled' or 'No Cars Available')\n",
        "cancelled_df = df[df['Status'].isin(['Cancelled', 'No Cars Available'])]\n",
        "\n",
        "# Group by hour of pickup and count number of cancellations\n",
        "cancellations_by_hour = cancelled_df.groupby('Hour_of_Pickup').size()\n",
        "\n",
        "# Plotting the line chart\n",
        "plt.figure(figsize=(10, 5))\n",
        "plt.plot(cancellations_by_hour.index, cancellations_by_hour.values, marker='o', linestyle='-', color='red')\n",
        "plt.title('Number of Cancelled Rides by Hour')\n",
        "plt.xlabel('Hour of the Day (0-23)')\n",
        "plt.ylabel('Number of Cancellations')\n",
        "plt.grid(True)\n",
        "plt.xticks(range(0, 24))\n",
        "plt.tight_layout()\n",
        "plt.show()"
      ],
      "metadata": {
        "id": "9J4Ikntbagyq"
      },
      "execution_count": null,
      "outputs": []
    },
    {
      "cell_type": "markdown",
      "source": [
        "##### 1. Why did you pick the specific chart?"
      ],
      "metadata": {
        "id": "iuM0vllUjJgP"
      }
    },
    {
      "cell_type": "markdown",
      "source": [
        "The line chart shows how cancellations vary across different hours of the day.\n",
        "\n",
        "It helps us visually identify peak cancellation periods, which are directly tied to Uber's demand-supply mismatch problem."
      ],
      "metadata": {
        "id": "o86K3xakjNPZ"
      }
    },
    {
      "cell_type": "markdown",
      "source": [
        "##### 2. What is/are the insight(s) found from the chart?"
      ],
      "metadata": {
        "id": "rgvSoO9WjRLK"
      }
    },
    {
      "cell_type": "markdown",
      "source": [
        "Peak Cancellations in Early Morning (5 AM – 9 AM):\n",
        "\n",
        "Many users request rides during this window (e.g., airport trips), but driver availability is low.\n",
        "\n",
        "\n",
        "\n",
        "---\n",
        "\n",
        "\n",
        "\n",
        "Another Spike in Late Evening (10 PM – Midnight):\n",
        "\n",
        "Demand rises again, especially for return trips from offices or events.\n",
        "\n",
        "Some drivers may log off, causing cancellations or \"No Cabs\" messages."
      ],
      "metadata": {
        "id": "Pl-2nZMajZl2"
      }
    },
    {
      "cell_type": "markdown",
      "source": [
        "##### 3. Will the gained insights help creating a positive business impact?"
      ],
      "metadata": {
        "id": "a4xF_1QtjaDz"
      }
    },
    {
      "cell_type": "markdown",
      "source": [
        "Stable Mid-Day Hours:\n",
        "\n",
        "The system performs well between late morning and early evening.\n",
        "\n",
        "Suggests this time window has a healthy driver-to-rider ratio.\n",
        "\n",
        "Predictable Demand Surges:\n",
        "\n",
        "The consistent morning and evening peaks provide an opportunity.\n",
        "\n",
        "Uber can use this to optimize driver incentives and pre-position vehicles."
      ],
      "metadata": {
        "id": "3HBd_-Owjbc-"
      }
    },
    {
      "cell_type": "markdown",
      "source": [
        "#### Chart - 9 - Correlation Heatmap"
      ],
      "metadata": {
        "id": "NC_X3p0fY2L0"
      }
    },
    {
      "cell_type": "code",
      "source": [
        "# Correlation Heatmap visualization code\n",
        "\n",
        "# Create a table showing count of each Status in each time slot\n",
        "table = df.groupby(['Time_slots', 'Status']).size().unstack(fill_value=0)\n",
        "\n",
        "# Plot heatmap\n",
        "sns.heatmap(table, annot=True, cmap='Blues')\n",
        "plt.title('Request Status by Time Slot')\n",
        "plt.show()"
      ],
      "metadata": {
        "id": "xyC9zolEZNRQ"
      },
      "execution_count": null,
      "outputs": []
    },
    {
      "cell_type": "markdown",
      "source": [
        "##### 1. Why did you pick the specific chart?"
      ],
      "metadata": {
        "id": "UV0SzAkaZNRQ"
      }
    },
    {
      "cell_type": "markdown",
      "source": [
        "This heatmap is used to visualize how ride request outcomes (Trip Completed, Cancelled, No Cars Available) are distributed across different time slots in a day. It helps spot peak hours of service success or failure using color intensity."
      ],
      "metadata": {
        "id": "DVPuT8LYZNRQ"
      }
    },
    {
      "cell_type": "markdown",
      "source": [
        "##### 2. What is/are the insight(s) found from the chart?"
      ],
      "metadata": {
        "id": "YPEH6qLeZNRQ"
      }
    },
    {
      "cell_type": "markdown",
      "source": [
        "Insights from the chart:\n",
        "\n",
        "Identifies time slots with high demand and high failure rates (dark colors = more requests).\n",
        "\n",
        "Shows when most requests get cancelled or unfulfilled (e.g., Early Morning or Evening).\n",
        "\n",
        "Helps detect under-served time periods that need more driver supply."
      ],
      "metadata": {
        "id": "bfSqtnDqZNRR"
      }
    },
    {
      "cell_type": "markdown",
      "source": [
        "## **5. Solution to Business Objective**"
      ],
      "metadata": {
        "id": "JcMwzZxoAimU"
      }
    },
    {
      "cell_type": "markdown",
      "source": [
        "#### What do you suggest the client to achieve Business Objective ?\n",
        "Explain Briefly."
      ],
      "metadata": {
        "id": "8G2x9gOozGDZ"
      }
    },
    {
      "cell_type": "markdown",
      "source": [
        "**1. Balance Supply with Time-Specific Demand**\n",
        "\n",
        "Deploy more drivers during high-demand slots like Early Morning and Evening, where ride requests spike.\n",
        "Use incentives to encourage driver activity during these hours.\n",
        "\n",
        "**2. Address Pickup Point Disparities**\n",
        "\n",
        "Ensure higher driver availability at the Airport, where most cancellations and \"No Cars Available\" issues are observed.\n",
        "Consider dedicated airport fleet during peak times.\n",
        "\n",
        "**3. Reduce Ride Cancellations**\n",
        "\n",
        "Analyze why drivers cancel frequently (fare concerns, distance, waiting time).\n",
        "\n",
        "Introduce features like:\n",
        "\n",
        "Penalties for frequent cancellations\n",
        "\n",
        "**4. Use Predictive Analytics**\n",
        "\n",
        "Use historical patterns to predict high-demand slots and locations, and auto-schedule more drivers in advance."
      ],
      "metadata": {
        "id": "pASKb0qOza21"
      }
    },
    {
      "cell_type": "markdown",
      "source": [
        "# **Conclusion**"
      ],
      "metadata": {
        "id": "gCX9965dhzqZ"
      }
    },
    {
      "cell_type": "markdown",
      "source": [
        "The analysis of Uber request data reveals significant demand-supply mismatches during peak hours, particularly in the early morning and evening time slots. A high proportion of ride cancellations and unavailability of cars at specific locations, especially the airport, highlights operational inefficiencies and the need for better fleet management.\n",
        "\n",
        "By identifying key problem areas such as time-based and location-based service gaps, this study provides actionable insights to improve driver allocation, reduce cancellation rates, and enhance overall user satisfaction. Implementing data-driven strategies based on these findings can help Uber optimize resource utilization, improve service reliability, and achieve its business objective of delivering a seamless and efficient ride-hailing experience."
      ],
      "metadata": {
        "id": "Fjb1IsQkh3yE"
      }
    },
    {
      "cell_type": "markdown",
      "source": [],
      "metadata": {
        "id": "gIfDvo9L0UH2"
      }
    }
  ]
}